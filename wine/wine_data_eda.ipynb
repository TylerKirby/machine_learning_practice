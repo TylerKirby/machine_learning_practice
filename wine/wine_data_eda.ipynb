{
 "cells": [
  {
   "cell_type": "code",
   "execution_count": 14,
   "metadata": {
    "collapsed": true
   },
   "outputs": [],
   "source": [
    "import pandas as pd\n",
    "import numpy as np\n",
    "import seaborn as sns\n",
    "from sklearn.model_selection import train_test_split\n",
    "from matplotlib import pyplot as plt"
   ]
  },
  {
   "cell_type": "code",
   "execution_count": 15,
   "outputs": [
    {
     "data": {
      "text/plain": "   fixed acidity  volatile acidity  citric acid  residual sugar  chlorides  \\\n0            7.4              0.70         0.00             1.9      0.076   \n1            7.8              0.88         0.00             2.6      0.098   \n2            7.8              0.76         0.04             2.3      0.092   \n3           11.2              0.28         0.56             1.9      0.075   \n4            7.4              0.70         0.00             1.9      0.076   \n\n   free sulfur dioxide  total sulfur dioxide  density    pH  sulphates  \\\n0                 11.0                  34.0   0.9978  3.51       0.56   \n1                 25.0                  67.0   0.9968  3.20       0.68   \n2                 15.0                  54.0   0.9970  3.26       0.65   \n3                 17.0                  60.0   0.9980  3.16       0.58   \n4                 11.0                  34.0   0.9978  3.51       0.56   \n\n   alcohol  quality  \n0      9.4        5  \n1      9.8        5  \n2      9.8        5  \n3      9.8        6  \n4      9.4        5  ",
      "text/html": "<div>\n<style scoped>\n    .dataframe tbody tr th:only-of-type {\n        vertical-align: middle;\n    }\n\n    .dataframe tbody tr th {\n        vertical-align: top;\n    }\n\n    .dataframe thead th {\n        text-align: right;\n    }\n</style>\n<table border=\"1\" class=\"dataframe\">\n  <thead>\n    <tr style=\"text-align: right;\">\n      <th></th>\n      <th>fixed acidity</th>\n      <th>volatile acidity</th>\n      <th>citric acid</th>\n      <th>residual sugar</th>\n      <th>chlorides</th>\n      <th>free sulfur dioxide</th>\n      <th>total sulfur dioxide</th>\n      <th>density</th>\n      <th>pH</th>\n      <th>sulphates</th>\n      <th>alcohol</th>\n      <th>quality</th>\n    </tr>\n  </thead>\n  <tbody>\n    <tr>\n      <th>0</th>\n      <td>7.4</td>\n      <td>0.70</td>\n      <td>0.00</td>\n      <td>1.9</td>\n      <td>0.076</td>\n      <td>11.0</td>\n      <td>34.0</td>\n      <td>0.9978</td>\n      <td>3.51</td>\n      <td>0.56</td>\n      <td>9.4</td>\n      <td>5</td>\n    </tr>\n    <tr>\n      <th>1</th>\n      <td>7.8</td>\n      <td>0.88</td>\n      <td>0.00</td>\n      <td>2.6</td>\n      <td>0.098</td>\n      <td>25.0</td>\n      <td>67.0</td>\n      <td>0.9968</td>\n      <td>3.20</td>\n      <td>0.68</td>\n      <td>9.8</td>\n      <td>5</td>\n    </tr>\n    <tr>\n      <th>2</th>\n      <td>7.8</td>\n      <td>0.76</td>\n      <td>0.04</td>\n      <td>2.3</td>\n      <td>0.092</td>\n      <td>15.0</td>\n      <td>54.0</td>\n      <td>0.9970</td>\n      <td>3.26</td>\n      <td>0.65</td>\n      <td>9.8</td>\n      <td>5</td>\n    </tr>\n    <tr>\n      <th>3</th>\n      <td>11.2</td>\n      <td>0.28</td>\n      <td>0.56</td>\n      <td>1.9</td>\n      <td>0.075</td>\n      <td>17.0</td>\n      <td>60.0</td>\n      <td>0.9980</td>\n      <td>3.16</td>\n      <td>0.58</td>\n      <td>9.8</td>\n      <td>6</td>\n    </tr>\n    <tr>\n      <th>4</th>\n      <td>7.4</td>\n      <td>0.70</td>\n      <td>0.00</td>\n      <td>1.9</td>\n      <td>0.076</td>\n      <td>11.0</td>\n      <td>34.0</td>\n      <td>0.9978</td>\n      <td>3.51</td>\n      <td>0.56</td>\n      <td>9.4</td>\n      <td>5</td>\n    </tr>\n  </tbody>\n</table>\n</div>"
     },
     "execution_count": 15,
     "metadata": {},
     "output_type": "execute_result"
    }
   ],
   "source": [
    "red_wine_df = pd.read_csv(\"winequality-red.csv\", delimiter=\";\")\n",
    "red_wine_df.head()"
   ],
   "metadata": {
    "collapsed": false,
    "pycharm": {
     "name": "#%%\n"
    }
   }
  },
  {
   "cell_type": "code",
   "execution_count": 16,
   "outputs": [
    {
     "data": {
      "text/plain": "   fixed acidity  volatile acidity  citric acid  residual sugar  chlorides  \\\n0            7.0              0.27         0.36            20.7      0.045   \n1            6.3              0.30         0.34             1.6      0.049   \n2            8.1              0.28         0.40             6.9      0.050   \n3            7.2              0.23         0.32             8.5      0.058   \n4            7.2              0.23         0.32             8.5      0.058   \n\n   free sulfur dioxide  total sulfur dioxide  density    pH  sulphates  \\\n0                 45.0                 170.0   1.0010  3.00       0.45   \n1                 14.0                 132.0   0.9940  3.30       0.49   \n2                 30.0                  97.0   0.9951  3.26       0.44   \n3                 47.0                 186.0   0.9956  3.19       0.40   \n4                 47.0                 186.0   0.9956  3.19       0.40   \n\n   alcohol  quality  \n0      8.8        6  \n1      9.5        6  \n2     10.1        6  \n3      9.9        6  \n4      9.9        6  ",
      "text/html": "<div>\n<style scoped>\n    .dataframe tbody tr th:only-of-type {\n        vertical-align: middle;\n    }\n\n    .dataframe tbody tr th {\n        vertical-align: top;\n    }\n\n    .dataframe thead th {\n        text-align: right;\n    }\n</style>\n<table border=\"1\" class=\"dataframe\">\n  <thead>\n    <tr style=\"text-align: right;\">\n      <th></th>\n      <th>fixed acidity</th>\n      <th>volatile acidity</th>\n      <th>citric acid</th>\n      <th>residual sugar</th>\n      <th>chlorides</th>\n      <th>free sulfur dioxide</th>\n      <th>total sulfur dioxide</th>\n      <th>density</th>\n      <th>pH</th>\n      <th>sulphates</th>\n      <th>alcohol</th>\n      <th>quality</th>\n    </tr>\n  </thead>\n  <tbody>\n    <tr>\n      <th>0</th>\n      <td>7.0</td>\n      <td>0.27</td>\n      <td>0.36</td>\n      <td>20.7</td>\n      <td>0.045</td>\n      <td>45.0</td>\n      <td>170.0</td>\n      <td>1.0010</td>\n      <td>3.00</td>\n      <td>0.45</td>\n      <td>8.8</td>\n      <td>6</td>\n    </tr>\n    <tr>\n      <th>1</th>\n      <td>6.3</td>\n      <td>0.30</td>\n      <td>0.34</td>\n      <td>1.6</td>\n      <td>0.049</td>\n      <td>14.0</td>\n      <td>132.0</td>\n      <td>0.9940</td>\n      <td>3.30</td>\n      <td>0.49</td>\n      <td>9.5</td>\n      <td>6</td>\n    </tr>\n    <tr>\n      <th>2</th>\n      <td>8.1</td>\n      <td>0.28</td>\n      <td>0.40</td>\n      <td>6.9</td>\n      <td>0.050</td>\n      <td>30.0</td>\n      <td>97.0</td>\n      <td>0.9951</td>\n      <td>3.26</td>\n      <td>0.44</td>\n      <td>10.1</td>\n      <td>6</td>\n    </tr>\n    <tr>\n      <th>3</th>\n      <td>7.2</td>\n      <td>0.23</td>\n      <td>0.32</td>\n      <td>8.5</td>\n      <td>0.058</td>\n      <td>47.0</td>\n      <td>186.0</td>\n      <td>0.9956</td>\n      <td>3.19</td>\n      <td>0.40</td>\n      <td>9.9</td>\n      <td>6</td>\n    </tr>\n    <tr>\n      <th>4</th>\n      <td>7.2</td>\n      <td>0.23</td>\n      <td>0.32</td>\n      <td>8.5</td>\n      <td>0.058</td>\n      <td>47.0</td>\n      <td>186.0</td>\n      <td>0.9956</td>\n      <td>3.19</td>\n      <td>0.40</td>\n      <td>9.9</td>\n      <td>6</td>\n    </tr>\n  </tbody>\n</table>\n</div>"
     },
     "execution_count": 16,
     "metadata": {},
     "output_type": "execute_result"
    }
   ],
   "source": [
    "white_wine_df = pd.read_csv(\"winequality-white.csv\", delimiter=\";\")\n",
    "white_wine_df.head()"
   ],
   "metadata": {
    "collapsed": false,
    "pycharm": {
     "name": "#%%\n"
    }
   }
  },
  {
   "cell_type": "markdown",
   "source": [
    "## Initial Questions\n",
    "How much data do we have?"
   ],
   "metadata": {
    "collapsed": false,
    "pycharm": {
     "name": "#%% md\n"
    }
   }
  },
  {
   "cell_type": "code",
   "source": [
    "red_wine_df.shape"
   ],
   "metadata": {
    "collapsed": false,
    "pycharm": {
     "name": "#%%\n"
    }
   },
   "execution_count": 17,
   "outputs": [
    {
     "data": {
      "text/plain": "(1599, 12)"
     },
     "execution_count": 17,
     "metadata": {},
     "output_type": "execute_result"
    }
   ]
  },
  {
   "cell_type": "code",
   "execution_count": 18,
   "outputs": [
    {
     "data": {
      "text/plain": "(4898, 12)"
     },
     "execution_count": 18,
     "metadata": {},
     "output_type": "execute_result"
    }
   ],
   "source": [
    "white_wine_df.shape"
   ],
   "metadata": {
    "collapsed": false,
    "pycharm": {
     "name": "#%%\n"
    }
   }
  },
  {
   "cell_type": "markdown",
   "source": [
    "Overall we have a reasonable amount of data but we should note the imbalance between red and white wine. Let's go ahead and split the data into train test split.\n"
   ],
   "metadata": {
    "collapsed": false,
    "pycharm": {
     "name": "#%% md\n"
    }
   }
  },
  {
   "cell_type": "code",
   "execution_count": 19,
   "outputs": [],
   "source": [
    "red_wine_train, red_wine_test = train_test_split(red_wine_df, test_size=0.2)\n",
    "white_wine_train, white_wine_test = train_test_split(white_wine_df, test_size=0.2)"
   ],
   "metadata": {
    "collapsed": false,
    "pycharm": {
     "name": "#%%\n"
    }
   }
  },
  {
   "cell_type": "markdown",
   "source": [
    "How is quality of red and white wines distributed?"
   ],
   "metadata": {
    "collapsed": false,
    "pycharm": {
     "name": "#%% md\n"
    }
   }
  },
  {
   "cell_type": "code",
   "execution_count": 20,
   "outputs": [
    {
     "data": {
      "text/plain": "<AxesSubplot:>"
     },
     "execution_count": 20,
     "metadata": {},
     "output_type": "execute_result"
    },
    {
     "data": {
      "text/plain": "<Figure size 432x288 with 1 Axes>",
      "image/png": "[encoded data removed]"
     },
     "metadata": {
      "needs_background": "light"
     },
     "output_type": "display_data"
    }
   ],
   "source": [
    "red_wine_train[\"quality\"].hist()"
   ],
   "metadata": {
    "collapsed": false,
    "pycharm": {
     "name": "#%%\n"
    }
   }
  },
  {
   "cell_type": "code",
   "execution_count": 21,
   "outputs": [
    {
     "data": {
      "text/plain": "5    553\n6    494\n7    162\n4     44\n8     17\n3      9\nName: quality, dtype: int64"
     },
     "execution_count": 21,
     "metadata": {},
     "output_type": "execute_result"
    }
   ],
   "source": [
    "red_wine_train[\"quality\"].value_counts()"
   ],
   "metadata": {
    "collapsed": false,
    "pycharm": {
     "name": "#%%\n"
    }
   }
  },
  {
   "cell_type": "code",
   "execution_count": 22,
   "outputs": [
    {
     "data": {
      "text/plain": "<AxesSubplot:>"
     },
     "execution_count": 22,
     "metadata": {},
     "output_type": "execute_result"
    },
    {
     "data": {
      "text/plain": "<Figure size 432x288 with 1 Axes>",
      "image/png": "[encoded data removed]"
     },
     "metadata": {
      "needs_background": "light"
     },
     "output_type": "display_data"
    }
   ],
   "source": [
    "white_wine_train[\"quality\"].hist()"
   ],
   "metadata": {
    "collapsed": false,
    "pycharm": {
     "name": "#%%\n"
    }
   }
  },
  {
   "cell_type": "code",
   "execution_count": 23,
   "outputs": [
    {
     "data": {
      "text/plain": "6    1761\n5    1169\n7     698\n8     141\n4     129\n3      16\n9       4\nName: quality, dtype: int64"
     },
     "execution_count": 23,
     "metadata": {},
     "output_type": "execute_result"
    }
   ],
   "source": [
    "white_wine_train[\"quality\"].value_counts()"
   ],
   "metadata": {
    "collapsed": false,
    "pycharm": {
     "name": "#%%\n"
    }
   }
  },
  {
   "cell_type": "markdown",
   "source": [
    "Quality seems to be similarly distributed for red and white wines.\n",
    "\n",
    "How correlated are the features with quality for red and white wines?\n"
   ],
   "metadata": {
    "collapsed": false,
    "pycharm": {
     "name": "#%% md\n"
    }
   }
  },
  {
   "cell_type": "code",
   "execution_count": 24,
   "outputs": [
    {
     "data": {
      "text/plain": "                      fixed acidity  volatile acidity  citric acid  \\\nfixed acidity              1.000000         -0.243109     0.661261   \nvolatile acidity          -0.243109          1.000000    -0.550070   \ncitric acid                0.661261         -0.550070     1.000000   \nresidual sugar             0.109340          0.009816     0.136752   \nchlorides                  0.093148          0.044184     0.214738   \nfree sulfur dioxide       -0.159765         -0.002831    -0.071607   \ntotal sulfur dioxide      -0.112393          0.092042     0.020160   \ndensity                    0.666077          0.040755     0.359155   \npH                        -0.688447          0.231159    -0.537871   \nsulphates                  0.170959         -0.262972     0.319720   \nalcohol                   -0.065860         -0.206646     0.107581   \nquality                    0.122102         -0.401664     0.226593   \n\n                      residual sugar  chlorides  free sulfur dioxide  \\\nfixed acidity               0.109340   0.093148            -0.159765   \nvolatile acidity            0.009816   0.044184            -0.002831   \ncitric acid                 0.136752   0.214738            -0.071607   \nresidual sugar              1.000000   0.055035             0.165469   \nchlorides                   0.055035   1.000000             0.004580   \nfree sulfur dioxide         0.165469   0.004580             1.000000   \ntotal sulfur dioxide        0.188960   0.046834             0.674727   \ndensity                     0.346646   0.210385            -0.017027   \npH                         -0.082069  -0.264562             0.080380   \nsulphates                   0.011084   0.362037             0.050672   \nalcohol                     0.056120  -0.213451            -0.072242   \nquality                    -0.000411  -0.125299            -0.050299   \n\n                      total sulfur dioxide   density        pH  sulphates  \\\nfixed acidity                    -0.112393  0.666077 -0.688447   0.170959   \nvolatile acidity                  0.092042  0.040755  0.231159  -0.262972   \ncitric acid                       0.020160  0.359155 -0.537871   0.319720   \nresidual sugar                    0.188960  0.346646 -0.082069   0.011084   \nchlorides                         0.046834  0.210385 -0.264562   0.362037   \nfree sulfur dioxide               0.674727 -0.017027  0.080380   0.050672   \ntotal sulfur dioxide              1.000000  0.100411 -0.045759   0.061742   \ndensity                           0.100411  1.000000 -0.348263   0.149682   \npH                               -0.045759 -0.348263  1.000000  -0.184678   \nsulphates                         0.061742  0.149682 -0.184678   1.000000   \nalcohol                          -0.220874 -0.502594  0.205475   0.100253   \nquality                          -0.204025 -0.193673 -0.065660   0.245464   \n\n                       alcohol   quality  \nfixed acidity        -0.065860  0.122102  \nvolatile acidity     -0.206646 -0.401664  \ncitric acid           0.107581  0.226593  \nresidual sugar        0.056120 -0.000411  \nchlorides            -0.213451 -0.125299  \nfree sulfur dioxide  -0.072242 -0.050299  \ntotal sulfur dioxide -0.220874 -0.204025  \ndensity              -0.502594 -0.193673  \npH                    0.205475 -0.065660  \nsulphates             0.100253  0.245464  \nalcohol               1.000000  0.480843  \nquality               0.480843  1.000000  ",
      "text/html": "<div>\n<style scoped>\n    .dataframe tbody tr th:only-of-type {\n        vertical-align: middle;\n    }\n\n    .dataframe tbody tr th {\n        vertical-align: top;\n    }\n\n    .dataframe thead th {\n        text-align: right;\n    }\n</style>\n<table border=\"1\" class=\"dataframe\">\n  <thead>\n    <tr style=\"text-align: right;\">\n      <th></th>\n      <th>fixed acidity</th>\n      <th>volatile acidity</th>\n      <th>citric acid</th>\n      <th>residual sugar</th>\n      <th>chlorides</th>\n      <th>free sulfur dioxide</th>\n      <th>total sulfur dioxide</th>\n      <th>density</th>\n      <th>pH</th>\n      <th>sulphates</th>\n      <th>alcohol</th>\n      <th>quality</th>\n    </tr>\n  </thead>\n  <tbody>\n    <tr>\n      <th>fixed acidity</th>\n      <td>1.000000</td>\n      <td>-0.243109</td>\n      <td>0.661261</td>\n      <td>0.109340</td>\n      <td>0.093148</td>\n      <td>-0.159765</td>\n      <td>-0.112393</td>\n      <td>0.666077</td>\n      <td>-0.688447</td>\n      <td>0.170959</td>\n      <td>-0.065860</td>\n      <td>0.122102</td>\n    </tr>\n    <tr>\n      <th>volatile acidity</th>\n      <td>-0.243109</td>\n      <td>1.000000</td>\n      <td>-0.550070</td>\n      <td>0.009816</td>\n      <td>0.044184</td>\n      <td>-0.002831</td>\n      <td>0.092042</td>\n      <td>0.040755</td>\n      <td>0.231159</td>\n      <td>-0.262972</td>\n      <td>-0.206646</td>\n      <td>-0.401664</td>\n    </tr>\n    <tr>\n      <th>citric acid</th>\n      <td>0.661261</td>\n      <td>-0.550070</td>\n      <td>1.000000</td>\n      <td>0.136752</td>\n      <td>0.214738</td>\n      <td>-0.071607</td>\n      <td>0.020160</td>\n      <td>0.359155</td>\n      <td>-0.537871</td>\n      <td>0.319720</td>\n      <td>0.107581</td>\n      <td>0.226593</td>\n    </tr>\n    <tr>\n      <th>residual sugar</th>\n      <td>0.109340</td>\n      <td>0.009816</td>\n      <td>0.136752</td>\n      <td>1.000000</td>\n      <td>0.055035</td>\n      <td>0.165469</td>\n      <td>0.188960</td>\n      <td>0.346646</td>\n      <td>-0.082069</td>\n      <td>0.011084</td>\n      <td>0.056120</td>\n      <td>-0.000411</td>\n    </tr>\n    <tr>\n      <th>chlorides</th>\n      <td>0.093148</td>\n      <td>0.044184</td>\n      <td>0.214738</td>\n      <td>0.055035</td>\n      <td>1.000000</td>\n      <td>0.004580</td>\n      <td>0.046834</td>\n      <td>0.210385</td>\n      <td>-0.264562</td>\n      <td>0.362037</td>\n      <td>-0.213451</td>\n      <td>-0.125299</td>\n    </tr>\n    <tr>\n      <th>free sulfur dioxide</th>\n      <td>-0.159765</td>\n      <td>-0.002831</td>\n      <td>-0.071607</td>\n      <td>0.165469</td>\n      <td>0.004580</td>\n      <td>1.000000</td>\n      <td>0.674727</td>\n      <td>-0.017027</td>\n      <td>0.080380</td>\n      <td>0.050672</td>\n      <td>-0.072242</td>\n      <td>-0.050299</td>\n    </tr>\n    <tr>\n      <th>total sulfur dioxide</th>\n      <td>-0.112393</td>\n      <td>0.092042</td>\n      <td>0.020160</td>\n      <td>0.188960</td>\n      <td>0.046834</td>\n      <td>0.674727</td>\n      <td>1.000000</td>\n      <td>0.100411</td>\n      <td>-0.045759</td>\n      <td>0.061742</td>\n      <td>-0.220874</td>\n      <td>-0.204025</td>\n    </tr>\n    <tr>\n      <th>density</th>\n      <td>0.666077</td>\n      <td>0.040755</td>\n      <td>0.359155</td>\n      <td>0.346646</td>\n      <td>0.210385</td>\n      <td>-0.017027</td>\n      <td>0.100411</td>\n      <td>1.000000</td>\n      <td>-0.348263</td>\n      <td>0.149682</td>\n      <td>-0.502594</td>\n      <td>-0.193673</td>\n    </tr>\n    <tr>\n      <th>pH</th>\n      <td>-0.688447</td>\n      <td>0.231159</td>\n      <td>-0.537871</td>\n      <td>-0.082069</td>\n      <td>-0.264562</td>\n      <td>0.080380</td>\n      <td>-0.045759</td>\n      <td>-0.348263</td>\n      <td>1.000000</td>\n      <td>-0.184678</td>\n      <td>0.205475</td>\n      <td>-0.065660</td>\n    </tr>\n    <tr>\n      <th>sulphates</th>\n      <td>0.170959</td>\n      <td>-0.262972</td>\n      <td>0.319720</td>\n      <td>0.011084</td>\n      <td>0.362037</td>\n      <td>0.050672</td>\n      <td>0.061742</td>\n      <td>0.149682</td>\n      <td>-0.184678</td>\n      <td>1.000000</td>\n      <td>0.100253</td>\n      <td>0.245464</td>\n    </tr>\n    <tr>\n      <th>alcohol</th>\n      <td>-0.065860</td>\n      <td>-0.206646</td>\n      <td>0.107581</td>\n      <td>0.056120</td>\n      <td>-0.213451</td>\n      <td>-0.072242</td>\n      <td>-0.220874</td>\n      <td>-0.502594</td>\n      <td>0.205475</td>\n      <td>0.100253</td>\n      <td>1.000000</td>\n      <td>0.480843</td>\n    </tr>\n    <tr>\n      <th>quality</th>\n      <td>0.122102</td>\n      <td>-0.401664</td>\n      <td>0.226593</td>\n      <td>-0.000411</td>\n      <td>-0.125299</td>\n      <td>-0.050299</td>\n      <td>-0.204025</td>\n      <td>-0.193673</td>\n      <td>-0.065660</td>\n      <td>0.245464</td>\n      <td>0.480843</td>\n      <td>1.000000</td>\n    </tr>\n  </tbody>\n</table>\n</div>"
     },
     "execution_count": 24,
     "metadata": {},
     "output_type": "execute_result"
    }
   ],
   "source": [
    "red_wine_train.corr()"
   ],
   "metadata": {
    "collapsed": false,
    "pycharm": {
     "name": "#%%\n"
    }
   }
  },
  {
   "cell_type": "code",
   "execution_count": 25,
   "outputs": [
    {
     "data": {
      "text/plain": "                      fixed acidity  volatile acidity  citric acid  \\\nfixed acidity              1.000000         -0.020073     0.289966   \nvolatile acidity          -0.020073          1.000000    -0.153792   \ncitric acid                0.289966         -0.153792     1.000000   \nresidual sugar             0.096086          0.071185     0.096637   \nchlorides                  0.027147          0.080782     0.112314   \nfree sulfur dioxide       -0.044219         -0.097879     0.102137   \ntotal sulfur dioxide       0.090732          0.089672     0.118735   \ndensity                    0.271791          0.036125     0.150303   \npH                        -0.438837         -0.023952    -0.171971   \nsulphates                 -0.024846         -0.025442     0.060170   \nalcohol                   -0.128328          0.067705    -0.076393   \nquality                   -0.128605         -0.190150    -0.009530   \n\n                      residual sugar  chlorides  free sulfur dioxide  \\\nfixed acidity               0.096086   0.027147            -0.044219   \nvolatile acidity            0.071185   0.080782            -0.097879   \ncitric acid                 0.096637   0.112314             0.102137   \nresidual sugar              1.000000   0.096571             0.303577   \nchlorides                   0.096571   1.000000             0.103566   \nfree sulfur dioxide         0.303577   0.103566             1.000000   \ntotal sulfur dioxide        0.406266   0.210154             0.608636   \ndensity                     0.839927   0.263835             0.293047   \npH                         -0.182664  -0.094321            -0.001956   \nsulphates                  -0.024882   0.022465             0.052684   \nalcohol                    -0.449513  -0.361279            -0.245880   \nquality                    -0.097818  -0.215114             0.017163   \n\n                      total sulfur dioxide   density        pH  sulphates  \\\nfixed acidity                     0.090732  0.271791 -0.438837  -0.024846   \nvolatile acidity                  0.089672  0.036125 -0.023952  -0.025442   \ncitric acid                       0.118735  0.150303 -0.171971   0.060170   \nresidual sugar                    0.406266  0.839927 -0.182664  -0.024882   \nchlorides                         0.210154  0.263835 -0.094321   0.022465   \nfree sulfur dioxide               0.608636  0.293047 -0.001956   0.052684   \ntotal sulfur dioxide              1.000000  0.528723  0.004088   0.137105   \ndensity                           0.528723  1.000000 -0.089633   0.073659   \npH                                0.004088 -0.089633  1.000000   0.148257   \nsulphates                         0.137105  0.073659  0.148257   1.000000   \nalcohol                          -0.443424 -0.776339  0.121180  -0.017678   \nquality                          -0.175462 -0.311622  0.105168   0.057184   \n\n                       alcohol   quality  \nfixed acidity        -0.128328 -0.128605  \nvolatile acidity      0.067705 -0.190150  \ncitric acid          -0.076393 -0.009530  \nresidual sugar       -0.449513 -0.097818  \nchlorides            -0.361279 -0.215114  \nfree sulfur dioxide  -0.245880  0.017163  \ntotal sulfur dioxide -0.443424 -0.175462  \ndensity              -0.776339 -0.311622  \npH                    0.121180  0.105168  \nsulphates            -0.017678  0.057184  \nalcohol               1.000000  0.444505  \nquality               0.444505  1.000000  ",
      "text/html": "<div>\n<style scoped>\n    .dataframe tbody tr th:only-of-type {\n        vertical-align: middle;\n    }\n\n    .dataframe tbody tr th {\n        vertical-align: top;\n    }\n\n    .dataframe thead th {\n        text-align: right;\n    }\n</style>\n<table border=\"1\" class=\"dataframe\">\n  <thead>\n    <tr style=\"text-align: right;\">\n      <th></th>\n      <th>fixed acidity</th>\n      <th>volatile acidity</th>\n      <th>citric acid</th>\n      <th>residual sugar</th>\n      <th>chlorides</th>\n      <th>free sulfur dioxide</th>\n      <th>total sulfur dioxide</th>\n      <th>density</th>\n      <th>pH</th>\n      <th>sulphates</th>\n      <th>alcohol</th>\n      <th>quality</th>\n    </tr>\n  </thead>\n  <tbody>\n    <tr>\n      <th>fixed acidity</th>\n      <td>1.000000</td>\n      <td>-0.020073</td>\n      <td>0.289966</td>\n      <td>0.096086</td>\n      <td>0.027147</td>\n      <td>-0.044219</td>\n      <td>0.090732</td>\n      <td>0.271791</td>\n      <td>-0.438837</td>\n      <td>-0.024846</td>\n      <td>-0.128328</td>\n      <td>-0.128605</td>\n    </tr>\n    <tr>\n      <th>volatile acidity</th>\n      <td>-0.020073</td>\n      <td>1.000000</td>\n      <td>-0.153792</td>\n      <td>0.071185</td>\n      <td>0.080782</td>\n      <td>-0.097879</td>\n      <td>0.089672</td>\n      <td>0.036125</td>\n      <td>-0.023952</td>\n      <td>-0.025442</td>\n      <td>0.067705</td>\n      <td>-0.190150</td>\n    </tr>\n    <tr>\n      <th>citric acid</th>\n      <td>0.289966</td>\n      <td>-0.153792</td>\n      <td>1.000000</td>\n      <td>0.096637</td>\n      <td>0.112314</td>\n      <td>0.102137</td>\n      <td>0.118735</td>\n      <td>0.150303</td>\n      <td>-0.171971</td>\n      <td>0.060170</td>\n      <td>-0.076393</td>\n      <td>-0.009530</td>\n    </tr>\n    <tr>\n      <th>residual sugar</th>\n      <td>0.096086</td>\n      <td>0.071185</td>\n      <td>0.096637</td>\n      <td>1.000000</td>\n      <td>0.096571</td>\n      <td>0.303577</td>\n      <td>0.406266</td>\n      <td>0.839927</td>\n      <td>-0.182664</td>\n      <td>-0.024882</td>\n      <td>-0.449513</td>\n      <td>-0.097818</td>\n    </tr>\n    <tr>\n      <th>chlorides</th>\n      <td>0.027147</td>\n      <td>0.080782</td>\n      <td>0.112314</td>\n      <td>0.096571</td>\n      <td>1.000000</td>\n      <td>0.103566</td>\n      <td>0.210154</td>\n      <td>0.263835</td>\n      <td>-0.094321</td>\n      <td>0.022465</td>\n      <td>-0.361279</td>\n      <td>-0.215114</td>\n    </tr>\n    <tr>\n      <th>free sulfur dioxide</th>\n      <td>-0.044219</td>\n      <td>-0.097879</td>\n      <td>0.102137</td>\n      <td>0.303577</td>\n      <td>0.103566</td>\n      <td>1.000000</td>\n      <td>0.608636</td>\n      <td>0.293047</td>\n      <td>-0.001956</td>\n      <td>0.052684</td>\n      <td>-0.245880</td>\n      <td>0.017163</td>\n    </tr>\n    <tr>\n      <th>total sulfur dioxide</th>\n      <td>0.090732</td>\n      <td>0.089672</td>\n      <td>0.118735</td>\n      <td>0.406266</td>\n      <td>0.210154</td>\n      <td>0.608636</td>\n      <td>1.000000</td>\n      <td>0.528723</td>\n      <td>0.004088</td>\n      <td>0.137105</td>\n      <td>-0.443424</td>\n      <td>-0.175462</td>\n    </tr>\n    <tr>\n      <th>density</th>\n      <td>0.271791</td>\n      <td>0.036125</td>\n      <td>0.150303</td>\n      <td>0.839927</td>\n      <td>0.263835</td>\n      <td>0.293047</td>\n      <td>0.528723</td>\n      <td>1.000000</td>\n      <td>-0.089633</td>\n      <td>0.073659</td>\n      <td>-0.776339</td>\n      <td>-0.311622</td>\n    </tr>\n    <tr>\n      <th>pH</th>\n      <td>-0.438837</td>\n      <td>-0.023952</td>\n      <td>-0.171971</td>\n      <td>-0.182664</td>\n      <td>-0.094321</td>\n      <td>-0.001956</td>\n      <td>0.004088</td>\n      <td>-0.089633</td>\n      <td>1.000000</td>\n      <td>0.148257</td>\n      <td>0.121180</td>\n      <td>0.105168</td>\n    </tr>\n    <tr>\n      <th>sulphates</th>\n      <td>-0.024846</td>\n      <td>-0.025442</td>\n      <td>0.060170</td>\n      <td>-0.024882</td>\n      <td>0.022465</td>\n      <td>0.052684</td>\n      <td>0.137105</td>\n      <td>0.073659</td>\n      <td>0.148257</td>\n      <td>1.000000</td>\n      <td>-0.017678</td>\n      <td>0.057184</td>\n    </tr>\n    <tr>\n      <th>alcohol</th>\n      <td>-0.128328</td>\n      <td>0.067705</td>\n      <td>-0.076393</td>\n      <td>-0.449513</td>\n      <td>-0.361279</td>\n      <td>-0.245880</td>\n      <td>-0.443424</td>\n      <td>-0.776339</td>\n      <td>0.121180</td>\n      <td>-0.017678</td>\n      <td>1.000000</td>\n      <td>0.444505</td>\n    </tr>\n    <tr>\n      <th>quality</th>\n      <td>-0.128605</td>\n      <td>-0.190150</td>\n      <td>-0.009530</td>\n      <td>-0.097818</td>\n      <td>-0.215114</td>\n      <td>0.017163</td>\n      <td>-0.175462</td>\n      <td>-0.311622</td>\n      <td>0.105168</td>\n      <td>0.057184</td>\n      <td>0.444505</td>\n      <td>1.000000</td>\n    </tr>\n  </tbody>\n</table>\n</div>"
     },
     "execution_count": 25,
     "metadata": {},
     "output_type": "execute_result"
    }
   ],
   "source": [
    "white_wine_train.corr()"
   ],
   "metadata": {
    "collapsed": false,
    "pycharm": {
     "name": "#%%\n"
    }
   }
  },
  {
   "cell_type": "markdown",
   "source": [
    "Let's note features with a $|r| \\geq 0.20$.\n",
    "\n",
    "Highly correlated features for red wine:\n",
    "- alcohol (0.48)\n",
    "- sulphates (0.24)\n",
    "- total sulfur dioxide (-0.20)\n",
    "- citric acid (0.22)\n",
    "- volatile acidity (-0.40)\n",
    "\n",
    "Highly correlated features for white wine:\n",
    "- alcohol (0.44)\n",
    "- density (-0.31)\n",
    "- chlorides (-0.21)\n",
    "\n",
    "## Prepare Data for Baseline Model\n",
    "Let's now combine the two wine datasets, ensure they have no null or non-numeric entries, and save the data. We'll also\n",
    "split the test set into a test and validation set for our pipeline.\n"
   ],
   "metadata": {
    "collapsed": false,
    "pycharm": {
     "name": "#%% md\n"
    }
   }
  },
  {
   "cell_type": "code",
   "execution_count": 26,
   "outputs": [
    {
     "name": "stdout",
     "output_type": "stream",
     "text": [
      "<class 'pandas.core.frame.DataFrame'>\n",
      "RangeIndex: 5197 entries, 0 to 5196\n",
      "Data columns (total 13 columns):\n",
      " #   Column                Non-Null Count  Dtype  \n",
      "---  ------                --------------  -----  \n",
      " 0   fixed acidity         5197 non-null   float64\n",
      " 1   volatile acidity      5197 non-null   float64\n",
      " 2   citric acid           5197 non-null   float64\n",
      " 3   residual sugar        5197 non-null   float64\n",
      " 4   chlorides             5197 non-null   float64\n",
      " 5   free sulfur dioxide   5197 non-null   float64\n",
      " 6   total sulfur dioxide  5197 non-null   float64\n",
      " 7   density               5197 non-null   float64\n",
      " 8   pH                    5197 non-null   float64\n",
      " 9   sulphates             5197 non-null   float64\n",
      " 10  alcohol               5197 non-null   float64\n",
      " 11  quality               5197 non-null   int64  \n",
      " 12  wine                  5197 non-null   int64  \n",
      "dtypes: float64(11), int64(2)\n",
      "memory usage: 527.9 KB\n"
     ]
    }
   ],
   "source": [
    "# We'll encode red wine as 1 and white wine as 0\n",
    "red_wine_train[\"wine\"] = 1\n",
    "red_wine_test[\"wine\"] = 1\n",
    "white_wine_train[\"wine\"] = 0\n",
    "white_wine_test[\"wine\"] = 0\n",
    "\n",
    "train_df = pd.concat([red_wine_train, white_wine_train], ignore_index=True)\n",
    "train_df = train_df.sample(frac=1).reset_index(drop=True)\n",
    "\n",
    "test_df = pd.concat([red_wine_test, white_wine_test], ignore_index=True)\n",
    "test_df = test_df.sample(frac=1).reset_index(drop=True)\n",
    "\n",
    "test_df, val_df = train_test_split(test_df, test_size=0.5)\n",
    "\n",
    "train_df.info()"
   ],
   "metadata": {
    "collapsed": false,
    "pycharm": {
     "name": "#%%\n"
    }
   }
  },
  {
   "cell_type": "code",
   "execution_count": 27,
   "outputs": [
    {
     "name": "stdout",
     "output_type": "stream",
     "text": [
      "<class 'pandas.core.frame.DataFrame'>\n",
      "Int64Index: 650 entries, 796 to 304\n",
      "Data columns (total 13 columns):\n",
      " #   Column                Non-Null Count  Dtype  \n",
      "---  ------                --------------  -----  \n",
      " 0   fixed acidity         650 non-null    float64\n",
      " 1   volatile acidity      650 non-null    float64\n",
      " 2   citric acid           650 non-null    float64\n",
      " 3   residual sugar        650 non-null    float64\n",
      " 4   chlorides             650 non-null    float64\n",
      " 5   free sulfur dioxide   650 non-null    float64\n",
      " 6   total sulfur dioxide  650 non-null    float64\n",
      " 7   density               650 non-null    float64\n",
      " 8   pH                    650 non-null    float64\n",
      " 9   sulphates             650 non-null    float64\n",
      " 10  alcohol               650 non-null    float64\n",
      " 11  quality               650 non-null    int64  \n",
      " 12  wine                  650 non-null    int64  \n",
      "dtypes: float64(11), int64(2)\n",
      "memory usage: 71.1 KB\n"
     ]
    }
   ],
   "source": [
    "test_df.info()"
   ],
   "metadata": {
    "collapsed": false,
    "pycharm": {
     "name": "#%%\n"
    }
   }
  },
  {
   "cell_type": "code",
   "execution_count": 28,
   "outputs": [
    {
     "name": "stdout",
     "output_type": "stream",
     "text": [
      "<class 'pandas.core.frame.DataFrame'>\n",
      "Int64Index: 650 entries, 214 to 306\n",
      "Data columns (total 13 columns):\n",
      " #   Column                Non-Null Count  Dtype  \n",
      "---  ------                --------------  -----  \n",
      " 0   fixed acidity         650 non-null    float64\n",
      " 1   volatile acidity      650 non-null    float64\n",
      " 2   citric acid           650 non-null    float64\n",
      " 3   residual sugar        650 non-null    float64\n",
      " 4   chlorides             650 non-null    float64\n",
      " 5   free sulfur dioxide   650 non-null    float64\n",
      " 6   total sulfur dioxide  650 non-null    float64\n",
      " 7   density               650 non-null    float64\n",
      " 8   pH                    650 non-null    float64\n",
      " 9   sulphates             650 non-null    float64\n",
      " 10  alcohol               650 non-null    float64\n",
      " 11  quality               650 non-null    int64  \n",
      " 12  wine                  650 non-null    int64  \n",
      "dtypes: float64(11), int64(2)\n",
      "memory usage: 71.1 KB\n"
     ]
    }
   ],
   "source": [
    "val_df.info()"
   ],
   "metadata": {
    "collapsed": false,
    "pycharm": {
     "name": "#%%\n"
    }
   }
  },
  {
   "cell_type": "code",
   "execution_count": 29,
   "outputs": [],
   "source": [
    "train_df.to_csv(\"train_df.csv\", index=False)\n",
    "test_df.to_csv(\"test_df.csv\", index=False)\n",
    "val_df.to_csv(\"val_df.csv\", index=False)"
   ],
   "metadata": {
    "collapsed": false,
    "pycharm": {
     "name": "#%%\n"
    }
   }
  },
  {
   "cell_type": "code",
   "execution_count": null,
   "outputs": [],
   "source": [],
   "metadata": {
    "collapsed": false,
    "pycharm": {
     "name": "#%%\n"
    }
   }
  }
 ],
 "metadata": {
  "kernelspec": {
   "display_name": "Python 3",
   "language": "python",
   "name": "python3"
  },
  "language_info": {
   "codemirror_mode": {
    "name": "ipython",
    "version": 2
   },
   "file_extension": ".py",
   "mimetype": "text/x-python",
   "name": "python",
   "nbconvert_exporter": "python",
   "pygments_lexer": "ipython2",
   "version": "2.7.6"
  }
 },
 "nbformat": 4,
 "nbformat_minor": 0
}