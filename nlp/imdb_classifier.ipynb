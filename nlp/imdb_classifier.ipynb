{
 "cells": [
  {
   "cell_type": "code",
   "execution_count": 8,
   "metadata": {},
   "outputs": [],
   "source": [
    "import torch\n",
    "import torchtext\n",
    "from torchtext.vocab import GloVe"
   ]
  },
  {
   "cell_type": "code",
   "execution_count": 9,
   "metadata": {},
   "outputs": [],
   "source": [
    "TEXT = torchtext.data.Field(lower=True, include_lengths=True, batch_first=True)\n",
    "LABEL = torchtext.data.Field(sequential=True)"
   ]
  },
  {
   "cell_type": "code",
   "execution_count": 17,
   "metadata": {},
   "outputs": [],
   "source": [
    "train, test = torchtext.datasets.IMDB.splits(TEXT, LABEL)"
   ]
  },
  {
   "cell_type": "code",
   "execution_count": 18,
   "metadata": {},
   "outputs": [
    {
     "data": {
      "text/plain": [
       "{'text': <torchtext.data.field.Field at 0x11522ae10>,\n",
       " 'label': <torchtext.data.field.Field at 0x11522ae48>}"
      ]
     },
     "execution_count": 18,
     "metadata": {},
     "output_type": "execute_result"
    }
   ],
   "source": [
    "train.fields"
   ]
  },
  {
   "cell_type": "code",
   "execution_count": 19,
   "metadata": {},
   "outputs": [
    {
     "data": {
      "text/plain": [
       "25000"
      ]
     },
     "execution_count": 19,
     "metadata": {},
     "output_type": "execute_result"
    }
   ],
   "source": [
    "len(train)"
   ]
  },
  {
   "cell_type": "code",
   "execution_count": 21,
   "metadata": {},
   "outputs": [
    {
     "data": {
      "text/plain": [
       "{'text': ['for',\n",
       "  'a',\n",
       "  'movie',\n",
       "  'that',\n",
       "  'gets',\n",
       "  'no',\n",
       "  'respect',\n",
       "  'there',\n",
       "  'sure',\n",
       "  'are',\n",
       "  'a',\n",
       "  'lot',\n",
       "  'of',\n",
       "  'memorable',\n",
       "  'quotes',\n",
       "  'listed',\n",
       "  'for',\n",
       "  'this',\n",
       "  'gem.',\n",
       "  'imagine',\n",
       "  'a',\n",
       "  'movie',\n",
       "  'where',\n",
       "  'joe',\n",
       "  'piscopo',\n",
       "  'is',\n",
       "  'actually',\n",
       "  'funny!',\n",
       "  'maureen',\n",
       "  'stapleton',\n",
       "  'is',\n",
       "  'a',\n",
       "  'scene',\n",
       "  'stealer.',\n",
       "  'the',\n",
       "  'moroni',\n",
       "  'character',\n",
       "  'is',\n",
       "  'an',\n",
       "  'absolute',\n",
       "  'scream.',\n",
       "  'watch',\n",
       "  'for',\n",
       "  'alan',\n",
       "  '\"the',\n",
       "  'skipper\"',\n",
       "  'hale',\n",
       "  'jr.',\n",
       "  'as',\n",
       "  'a',\n",
       "  'police',\n",
       "  'sgt.'],\n",
       " 'label': ['pos']}"
      ]
     },
     "execution_count": 21,
     "metadata": {},
     "output_type": "execute_result"
    }
   ],
   "source": [
    "vars(train[0])"
   ]
  },
  {
   "cell_type": "code",
   "execution_count": null,
   "metadata": {},
   "outputs": [],
   "source": [
    "TEXT.build_vocab(train, vectors=GloVe(name='6B', dim=300))"
   ]
  }
 ],
 "metadata": {
  "kernelspec": {
   "display_name": "Python 3",
   "language": "python",
   "name": "python3"
  },
  "language_info": {
   "codemirror_mode": {
    "name": "ipython",
    "version": 3
   },
   "file_extension": ".py",
   "mimetype": "text/x-python",
   "name": "python",
   "nbconvert_exporter": "python",
   "pygments_lexer": "ipython3",
   "version": "3.6.2"
  }
 },
 "nbformat": 4,
 "nbformat_minor": 2
}
